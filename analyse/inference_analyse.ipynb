{
 "cells": [
  {
   "cell_type": "code",
   "execution_count": 2,
   "metadata": {},
   "outputs": [],
   "source": [
    "import pandas as pd"
   ]
  },
  {
   "cell_type": "markdown",
   "metadata": {},
   "source": [
    "Without Noise Map"
   ]
  },
  {
   "cell_type": "code",
   "execution_count": 52,
   "metadata": {},
   "outputs": [
    {
     "name": "stdout",
     "output_type": "stream",
     "text": [
      "   label  detector_pred       PSNR      SSIM     LPIPS    BRISQUE  CLIP-IQA  \\\n",
      "0      0              0  23.661774  0.717130  0.186872  20.058533  0.437765   \n",
      "1      1              0  13.700401  0.428611  0.440324  97.607483  0.642052   \n",
      "2      1              1  20.942474  0.780265  0.194815  24.505066  0.656874   \n",
      "3      1              1  20.971708  0.744840  0.149111  34.169495  0.332324   \n",
      "4      0              0  18.990137  0.561800  0.280647  26.973328  0.623621   \n",
      "\n",
      "       NIMA       NIQE      MUSIQ  MUSIQ-AVA    MANIQA  MANIQA-KADID    CNNIQA  \n",
      "0  3.671893   4.223674  56.563171   3.643328  0.444746      0.621907  0.650732  \n",
      "1  4.696601  10.270482  60.670639   4.717705  0.506305      0.394572  0.628515  \n",
      "2  3.825278   5.896774  50.482849   3.739629  0.331660      0.312489  0.514098  \n",
      "3  3.596021   4.487004  21.216646   3.050977  0.184480      0.359338  0.377813  \n",
      "4  4.046021   6.042794  53.279789   4.157028  0.446113      0.485618  0.557850  \n"
     ]
    }
   ],
   "source": [
    "data = pd.read_csv('../results/stage2/Task5/exp9/quantative/weighted_results.csv')\n",
    "\n",
    "print(data.head())"
   ]
  },
  {
   "cell_type": "code",
   "execution_count": 53,
   "metadata": {},
   "outputs": [
    {
     "name": "stdout",
     "output_type": "stream",
     "text": [
      "PSNR            22.530079\n",
      "SSIM             0.724718\n",
      "LPIPS            0.206610\n",
      "BRISQUE         27.257923\n",
      "CLIP-IQA         0.452800\n",
      "NIMA             4.098625\n",
      "NIQE             6.056287\n",
      "MUSIQ           50.007904\n",
      "MUSIQ-AVA        3.817469\n",
      "MANIQA           0.363255\n",
      "MANIQA-KADID     0.538966\n",
      "CNNIQA           0.544683\n",
      "dtype: float64\n"
     ]
    }
   ],
   "source": [
    "column_means = data.mean()\n",
    "print(column_means[2:])"
   ]
  },
  {
   "cell_type": "code",
   "execution_count": 54,
   "metadata": {},
   "outputs": [
    {
     "name": "stdout",
     "output_type": "stream",
     "text": [
      "Mean PSNR for ID data: PSNR            23.642631\n",
      "SSIM             0.759339\n",
      "LPIPS            0.180304\n",
      "BRISQUE         28.898946\n",
      "CLIP-IQA         0.466473\n",
      "NIMA             4.194774\n",
      "NIQE             6.092652\n",
      "MUSIQ           47.154872\n",
      "MUSIQ-AVA        3.910313\n",
      "MANIQA           0.329720\n",
      "MANIQA-KADID     0.541029\n",
      "CNNIQA           0.535303\n",
      "dtype: float64\n",
      "Mean PSNR for OOD data: PSNR            21.246365\n",
      "SSIM             0.684771\n",
      "LPIPS            0.236963\n",
      "BRISQUE         25.364434\n",
      "CLIP-IQA         0.437024\n",
      "NIMA             3.987683\n",
      "NIQE             6.014328\n",
      "MUSIQ           53.299863\n",
      "MUSIQ-AVA        3.710342\n",
      "MANIQA           0.401949\n",
      "MANIQA-KADID     0.536586\n",
      "CNNIQA           0.555507\n",
      "dtype: float64\n"
     ]
    }
   ],
   "source": [
    "# Filter and calculate means\n",
    "mean_columns_label_1 = data[data['label'] == 1].drop(columns=['label', 'detector_pred']).mean()\n",
    "mean_columns_label_0 = data[data['label'] == 0].drop(columns=['label', 'detector_pred']).mean()\n",
    "\n",
    "# Print the results\n",
    "print(f\"Mean PSNR for ID data: {mean_columns_label_1}\")\n",
    "print(f\"Mean PSNR for OOD data: {mean_columns_label_0}\")"
   ]
  },
  {
   "cell_type": "markdown",
   "metadata": {},
   "source": [
    "________________________________________________________________________________________________________________________________________"
   ]
  },
  {
   "cell_type": "markdown",
   "metadata": {},
   "source": [
    "Uniform schedual"
   ]
  },
  {
   "cell_type": "code",
   "execution_count": 44,
   "metadata": {},
   "outputs": [
    {
     "name": "stdout",
     "output_type": "stream",
     "text": [
      "   label  detector_pred       PSNR      SSIM     LPIPS    BRISQUE  CLIP-IQA  \\\n",
      "0      0              0  18.881001  0.420521  0.710247  57.014099  0.383169   \n",
      "1      1              0  12.708751  0.180212  0.892451  44.800232  0.485909   \n",
      "2      1              1  18.674370  0.398782  0.538847  58.065002  0.305579   \n",
      "3      1              1  18.071917  0.441691  0.473809  50.834167  0.415504   \n",
      "4      0              0  18.933714  0.317322  0.711794  60.105164  0.567301   \n",
      "\n",
      "       NIMA       NIQE      MUSIQ  MUSIQ-AVA    MANIQA  MANIQA-KADID    CNNIQA  \n",
      "0  2.964846   6.807681  17.130924   2.712907  0.186431      0.136303  0.348296  \n",
      "1  3.641029  10.577725  29.768585   3.045541  0.378934      0.205109  0.319853  \n",
      "2  3.436337   7.938799  17.835154   2.857710  0.181602      0.116720  0.289592  \n",
      "3  3.597850   7.226825  18.133518   2.732428  0.198756      0.132828  0.276601  \n",
      "4  3.259848   9.062606  22.549416   2.884984  0.169760      0.090343  0.327004  \n"
     ]
    }
   ],
   "source": [
    "data = pd.read_csv('../results/stage2/Task5/exp1/quantative/uniform_results.csv')\n",
    "\n",
    "print(data.head())"
   ]
  },
  {
   "cell_type": "code",
   "execution_count": 45,
   "metadata": {},
   "outputs": [
    {
     "name": "stdout",
     "output_type": "stream",
     "text": [
      "PSNR            17.943317\n",
      "SSIM             0.426733\n",
      "LPIPS            0.638362\n",
      "BRISQUE         57.172578\n",
      "CLIP-IQA         0.362263\n",
      "NIMA             3.484609\n",
      "NIQE             8.281092\n",
      "MUSIQ           18.546343\n",
      "MUSIQ-AVA        2.725661\n",
      "MANIQA           0.165362\n",
      "MANIQA-KADID     0.116776\n",
      "CNNIQA           0.276936\n",
      "dtype: float64\n"
     ]
    }
   ],
   "source": [
    "column_means = data.mean()\n",
    "print(column_means[2:])\n"
   ]
  },
  {
   "cell_type": "code",
   "execution_count": 46,
   "metadata": {},
   "outputs": [
    {
     "name": "stdout",
     "output_type": "stream",
     "text": [
      "Mean PSNR for ID data: PSNR            18.114175\n",
      "SSIM             0.451386\n",
      "LPIPS            0.591814\n",
      "BRISQUE         55.895388\n",
      "CLIP-IQA         0.375867\n",
      "NIMA             3.532556\n",
      "NIQE             8.076896\n",
      "MUSIQ           18.376574\n",
      "MUSIQ-AVA        2.803838\n",
      "MANIQA           0.156086\n",
      "MANIQA-KADID     0.122317\n",
      "CNNIQA           0.277385\n",
      "dtype: float64\n",
      "Mean PSNR for OOD data: PSNR            17.746173\n",
      "SSIM             0.398287\n",
      "LPIPS            0.692070\n",
      "BRISQUE         58.646259\n",
      "CLIP-IQA         0.346566\n",
      "NIMA             3.429285\n",
      "NIQE             8.516703\n",
      "MUSIQ           18.742231\n",
      "MUSIQ-AVA        2.635458\n",
      "MANIQA           0.176066\n",
      "MANIQA-KADID     0.110382\n",
      "CNNIQA           0.276417\n",
      "dtype: float64\n"
     ]
    }
   ],
   "source": [
    "# Filter and calculate means\n",
    "mean_columns_label_1 = data[data['label'] == 1].drop(columns=['label', 'detector_pred']).mean()\n",
    "mean_columns_label_0 = data[data['label'] == 0].drop(columns=['label', 'detector_pred']).mean()\n",
    "\n",
    "# Print the results\n",
    "print(f\"Mean PSNR for ID data: {mean_columns_label_1}\")\n",
    "print(f\"Mean PSNR for OOD data: {mean_columns_label_0}\")"
   ]
  },
  {
   "cell_type": "markdown",
   "metadata": {},
   "source": [
    "________________________________________________________________________________________________________________________________________"
   ]
  },
  {
   "cell_type": "markdown",
   "metadata": {},
   "source": [
    "Gaussain Schedual"
   ]
  },
  {
   "cell_type": "markdown",
   "metadata": {},
   "source": [
    "1- mid noise + var = 150"
   ]
  },
  {
   "cell_type": "code",
   "execution_count": 47,
   "metadata": {},
   "outputs": [
    {
     "name": "stdout",
     "output_type": "stream",
     "text": [
      "   label  detector_pred       PSNR      SSIM     LPIPS     BRISQUE  CLIP-IQA  \\\n",
      "0      0              0  23.203007  0.727249  0.160943   45.083679  0.390073   \n",
      "1      1              0  17.922562  0.741095  0.112090  150.440460  0.500687   \n",
      "2      1              1  20.795498  0.765866  0.208458   24.638489  0.674657   \n",
      "3      1              1  21.072342  0.730986  0.166270   27.796570  0.335354   \n",
      "4      0              0  24.349457  0.599642  0.284251   52.402527  0.470744   \n",
      "\n",
      "       NIMA       NIQE      MUSIQ  MUSIQ-AVA    MANIQA  MANIQA-KADID    CNNIQA  \n",
      "0  3.178368   8.645730  43.192459   3.041751  0.287882      0.379996  0.311955  \n",
      "1  4.831790  74.457199  50.889938   4.181266  0.426501      0.619188  0.444277  \n",
      "2  3.855810   5.618351  50.865402   3.831780  0.359154      0.328988  0.529394  \n",
      "3  3.655711   3.908101  22.755905   3.189562  0.194013      0.395015  0.414858  \n",
      "4  3.259357   8.610433  33.158352   3.152066  0.262222      0.270664  0.322627  \n"
     ]
    }
   ],
   "source": [
    "data = pd.read_csv('../results/stage2/Task5/exp6/quantative/weighted_results.csv')\n",
    "\n",
    "print(data.head())"
   ]
  },
  {
   "cell_type": "code",
   "execution_count": 48,
   "metadata": {},
   "outputs": [
    {
     "name": "stdout",
     "output_type": "stream",
     "text": [
      "PSNR            22.661113\n",
      "SSIM             0.724705\n",
      "LPIPS            0.202479\n",
      "BRISQUE         42.166659\n",
      "CLIP-IQA         0.415549\n",
      "NIMA             3.798762\n",
      "NIQE             8.265503\n",
      "MUSIQ           36.631695\n",
      "MUSIQ-AVA        3.383356\n",
      "MANIQA           0.274095\n",
      "MANIQA-KADID     0.387234\n",
      "CNNIQA           0.382693\n",
      "dtype: float64\n"
     ]
    }
   ],
   "source": [
    "column_means = data.mean()\n",
    "print(column_means[2:])\n"
   ]
  },
  {
   "cell_type": "code",
   "execution_count": 49,
   "metadata": {},
   "outputs": [
    {
     "name": "stdout",
     "output_type": "stream",
     "text": [
      "Mean PSNR for ID data: PSNR            23.751335\n",
      "SSIM             0.759612\n",
      "LPIPS            0.180326\n",
      "BRISQUE         37.002821\n",
      "CLIP-IQA         0.460156\n",
      "NIMA             4.008877\n",
      "NIQE             7.308648\n",
      "MUSIQ           40.037671\n",
      "MUSIQ-AVA        3.670514\n",
      "MANIQA           0.287059\n",
      "MANIQA-KADID     0.445127\n",
      "CNNIQA           0.443469\n",
      "dtype: float64\n",
      "Mean PSNR for OOD data: PSNR            21.403164\n",
      "SSIM             0.684427\n",
      "LPIPS            0.228040\n",
      "BRISQUE         48.124934\n",
      "CLIP-IQA         0.364079\n",
      "NIMA             3.556322\n",
      "NIQE             9.369567\n",
      "MUSIQ           32.701723\n",
      "MUSIQ-AVA        3.052021\n",
      "MANIQA           0.259137\n",
      "MANIQA-KADID     0.320436\n",
      "CNNIQA           0.312567\n",
      "dtype: float64\n"
     ]
    }
   ],
   "source": [
    "# Filter and calculate means\n",
    "mean_columns_label_1 = data[data['label'] == 1].drop(columns=['label', 'detector_pred']).mean()\n",
    "mean_columns_label_0 = data[data['label'] == 0].drop(columns=['label', 'detector_pred']).mean()\n",
    "\n",
    "# Print the results\n",
    "print(f\"Mean PSNR for ID data: {mean_columns_label_1}\")\n",
    "print(f\"Mean PSNR for OOD data: {mean_columns_label_0}\")"
   ]
  },
  {
   "cell_type": "markdown",
   "metadata": {},
   "source": [
    "____________________________________________________________________________________________________________________________________________________________"
   ]
  },
  {
   "cell_type": "markdown",
   "metadata": {},
   "source": [
    "2- low noise + var = 150"
   ]
  },
  {
   "cell_type": "code",
   "execution_count": 50,
   "metadata": {},
   "outputs": [
    {
     "name": "stdout",
     "output_type": "stream",
     "text": [
      "   label  detector_pred       PSNR      SSIM     LPIPS    BRISQUE  CLIP-IQA  \\\n",
      "0      0              0  19.071548  0.436154  0.679323  56.128601  0.169335   \n",
      "1      1              0  11.612115  0.151077  0.950963  44.062073  0.398557   \n",
      "2      1              1  20.795498  0.765866  0.208458  24.638489  0.674657   \n",
      "3      1              1  21.072342  0.730986  0.166270  27.796570  0.335354   \n",
      "4      0              0  18.550419  0.305819  0.720902  57.545593  0.385288   \n",
      "\n",
      "       NIMA       NIQE      MUSIQ  MUSIQ-AVA    MANIQA  MANIQA-KADID    CNNIQA  \n",
      "0  3.037711   7.244438  19.126944   2.987844  0.203457      0.183315  0.343057  \n",
      "1  4.067184  13.390784  33.009670   2.690849  0.428839      0.237413  0.292713  \n",
      "2  3.855810   5.618351  50.865402   3.831780  0.359154      0.328988  0.529394  \n",
      "3  3.655711   3.908101  22.755905   3.189562  0.194013      0.395015  0.414858  \n",
      "4  4.169512  10.079995  20.132526   2.980294  0.158651      0.100253  0.331341  \n"
     ]
    }
   ],
   "source": [
    "data = pd.read_csv('../results/stage2/Task5/exp7/quantative/weighted_results.csv')\n",
    "\n",
    "print(data.head())"
   ]
  },
  {
   "cell_type": "code",
   "execution_count": 34,
   "metadata": {},
   "outputs": [
    {
     "name": "stdout",
     "output_type": "stream",
     "text": [
      "PSNR            19.649374\n",
      "SSIM             0.531709\n",
      "LPIPS            0.501802\n",
      "BRISQUE         48.183547\n",
      "CLIP-IQA         0.324132\n",
      "NIMA             3.962099\n",
      "NIQE             7.583755\n",
      "MUSIQ           27.128855\n",
      "MUSIQ-AVA        3.117555\n",
      "MANIQA           0.211293\n",
      "MANIQA-KADID     0.253594\n",
      "CNNIQA           0.358070\n",
      "dtype: float64\n"
     ]
    }
   ],
   "source": [
    "column_means = data.mean()\n",
    "print(column_means[2:])"
   ]
  },
  {
   "cell_type": "code",
   "execution_count": 35,
   "metadata": {},
   "outputs": [
    {
     "name": "stdout",
     "output_type": "stream",
     "text": [
      "Mean PSNR for ID data: PSNR            21.587965\n",
      "SSIM             0.648802\n",
      "LPIPS            0.347553\n",
      "BRISQUE         40.949569\n",
      "CLIP-IQA         0.377689\n",
      "NIMA             4.084557\n",
      "NIQE             7.072405\n",
      "MUSIQ           34.389447\n",
      "MUSIQ-AVA        3.450979\n",
      "MANIQA           0.245795\n",
      "MANIQA-KADID     0.361203\n",
      "CNNIQA           0.423079\n",
      "dtype: float64\n",
      "Mean PSNR for OOD data: PSNR            17.412538\n",
      "SSIM             0.396601\n",
      "LPIPS            0.679781\n",
      "BRISQUE         56.530445\n",
      "CLIP-IQA         0.262335\n",
      "NIMA             3.820801\n",
      "NIQE             8.173775\n",
      "MUSIQ           18.751249\n",
      "MUSIQ-AVA        2.732836\n",
      "MANIQA           0.171482\n",
      "MANIQA-KADID     0.129431\n",
      "CNNIQA           0.283060\n",
      "dtype: float64\n"
     ]
    }
   ],
   "source": [
    "# Filter and calculate means\n",
    "mean_columns_label_1 = data[data['label'] == 1].drop(columns=['label', 'detector_pred']).mean()\n",
    "mean_columns_label_0 = data[data['label'] == 0].drop(columns=['label', 'detector_pred']).mean()\n",
    "\n",
    "# Print the results\n",
    "print(f\"Mean PSNR for ID data: {mean_columns_label_1}\")\n",
    "print(f\"Mean PSNR for OOD data: {mean_columns_label_0}\")"
   ]
  },
  {
   "cell_type": "markdown",
   "metadata": {},
   "source": [
    "_______________________________________________________________________________________________________________________________________________________"
   ]
  },
  {
   "cell_type": "markdown",
   "metadata": {},
   "source": [
    "3- mid noise + var = 100"
   ]
  },
  {
   "cell_type": "code",
   "execution_count": 36,
   "metadata": {},
   "outputs": [
    {
     "name": "stdout",
     "output_type": "stream",
     "text": [
      "   label  detector_pred       PSNR      SSIM     LPIPS     BRISQUE  CLIP-IQA  \\\n",
      "0      0              0  23.766518  0.751486  0.127033   41.557312  0.459641   \n",
      "1      1              0  16.999020  0.716637  0.117431  149.352707  0.517402   \n",
      "2      1              1  20.942474  0.780265  0.194815   24.505066  0.656874   \n",
      "3      1              1  20.971708  0.744840  0.149111   34.169495  0.332324   \n",
      "4      0              0  24.185398  0.617799  0.238565   50.690125  0.485780   \n",
      "\n",
      "       NIMA       NIQE      MUSIQ  MUSIQ-AVA    MANIQA  MANIQA-KADID    CNNIQA  \n",
      "0  3.247409   8.929978  47.000748   3.104164  0.293548      0.449810  0.380905  \n",
      "1  4.608494  45.796776  48.703110   3.990757  0.430289      0.606191  0.438028  \n",
      "2  3.825278   5.896774  50.482849   3.739629  0.331660      0.312489  0.514098  \n",
      "3  3.596021   4.487004  21.216646   3.050977  0.184480      0.359338  0.377813  \n",
      "4  3.445454  10.698435  33.607025   3.224810  0.267281      0.279586  0.332154  \n"
     ]
    }
   ],
   "source": [
    "data = pd.read_csv('../results/stage2/Task5/exp8/quantative/weighted_results.csv')\n",
    "\n",
    "print(data.head())"
   ]
  },
  {
   "cell_type": "code",
   "execution_count": 37,
   "metadata": {},
   "outputs": [
    {
     "name": "stdout",
     "output_type": "stream",
     "text": [
      "PSNR            22.857131\n",
      "SSIM             0.742436\n",
      "LPIPS            0.173062\n",
      "BRISQUE         39.951851\n",
      "CLIP-IQA         0.418531\n",
      "NIMA             3.828379\n",
      "NIQE             8.127378\n",
      "MUSIQ           39.303010\n",
      "MUSIQ-AVA        3.448310\n",
      "MANIQA           0.282603\n",
      "MANIQA-KADID     0.422413\n",
      "CNNIQA           0.401321\n",
      "dtype: float64\n"
     ]
    }
   ],
   "source": [
    "column_means = data.mean()\n",
    "print(column_means[2:])"
   ]
  },
  {
   "cell_type": "code",
   "execution_count": 38,
   "metadata": {},
   "outputs": [
    {
     "name": "stdout",
     "output_type": "stream",
     "text": [
      "Mean PSNR for ID data: PSNR            23.865165\n",
      "SSIM             0.768175\n",
      "LPIPS            0.163681\n",
      "BRISQUE         35.796163\n",
      "CLIP-IQA         0.452158\n",
      "NIMA             4.024660\n",
      "NIQE             7.098456\n",
      "MUSIQ           41.297747\n",
      "MUSIQ-AVA        3.701133\n",
      "MANIQA           0.287954\n",
      "MANIQA-KADID     0.466634\n",
      "CNNIQA           0.452724\n",
      "dtype: float64\n",
      "Mean PSNR for OOD data: PSNR            21.694015\n",
      "SSIM             0.712736\n",
      "LPIPS            0.183886\n",
      "BRISQUE         44.746877\n",
      "CLIP-IQA         0.379730\n",
      "NIMA             3.601901\n",
      "NIQE             9.314596\n",
      "MUSIQ           37.001390\n",
      "MUSIQ-AVA        3.156590\n",
      "MANIQA           0.276430\n",
      "MANIQA-KADID     0.371388\n",
      "CNNIQA           0.342011\n",
      "dtype: float64\n"
     ]
    }
   ],
   "source": [
    "# Filter and calculate means\n",
    "mean_columns_label_1 = data[data['label'] == 1].drop(columns=['label', 'detector_pred']).mean()\n",
    "mean_columns_label_0 = data[data['label'] == 0].drop(columns=['label', 'detector_pred']).mean()\n",
    "\n",
    "# Print the results\n",
    "print(f\"Mean PSNR for ID data: {mean_columns_label_1}\")\n",
    "print(f\"Mean PSNR for OOD data: {mean_columns_label_0}\")"
   ]
  },
  {
   "cell_type": "markdown",
   "metadata": {},
   "source": [
    "_______________________________________________________________________________________________________________________________________________________"
   ]
  },
  {
   "cell_type": "markdown",
   "metadata": {},
   "source": [
    "4- mid noise + var = 300"
   ]
  },
  {
   "cell_type": "code",
   "execution_count": 3,
   "metadata": {},
   "outputs": [
    {
     "name": "stdout",
     "output_type": "stream",
     "text": [
      "   label  detector_pred       PSNR      SSIM     LPIPS     BRISQUE  CLIP-IQA  \\\n",
      "0      0              0  22.764633  0.696369  0.197543   47.242371  0.379743   \n",
      "1      1              0  16.213032  0.679494  0.199998  141.845856  0.472776   \n",
      "2      1              1  20.942474  0.780265  0.194815   24.505066  0.656874   \n",
      "3      1              1  20.971708  0.744840  0.149111   34.169495  0.332324   \n",
      "4      0              0  24.365263  0.595239  0.305864   53.277527  0.468722   \n",
      "\n",
      "       NIMA       NIQE      MUSIQ  MUSIQ-AVA    MANIQA  MANIQA-KADID    CNNIQA  \n",
      "0  3.102309   8.150734  41.202873   2.994173  0.277587      0.343580  0.275134  \n",
      "1  4.909155  25.377775  47.998997   4.054537  0.430930      0.487296  0.407799  \n",
      "2  3.825278   5.896774  50.482849   3.739629  0.331660      0.312489  0.514098  \n",
      "3  3.596021   4.487004  21.216646   3.050977  0.184480      0.359338  0.377813  \n",
      "4  3.211304   7.990459  34.540924   3.096540  0.267600      0.260975  0.322825  \n"
     ]
    }
   ],
   "source": [
    "data = pd.read_csv('../results/stage2/Task5/exp10/quantative/weighted_results.csv')\n",
    "\n",
    "print(data.head())"
   ]
  },
  {
   "cell_type": "code",
   "execution_count": 4,
   "metadata": {},
   "outputs": [
    {
     "name": "stdout",
     "output_type": "stream",
     "text": [
      "PSNR            22.432175\n",
      "SSIM             0.707523\n",
      "LPIPS            0.229363\n",
      "BRISQUE         44.336680\n",
      "CLIP-IQA         0.409203\n",
      "NIMA             3.762022\n",
      "NIQE             8.188515\n",
      "MUSIQ           34.291012\n",
      "MUSIQ-AVA        3.316915\n",
      "MANIQA           0.264654\n",
      "MANIQA-KADID     0.359689\n",
      "CNNIQA           0.366750\n",
      "dtype: float64\n"
     ]
    }
   ],
   "source": [
    "column_means = data.mean()\n",
    "print(column_means[2:])"
   ]
  },
  {
   "cell_type": "code",
   "execution_count": 5,
   "metadata": {},
   "outputs": [
    {
     "name": "stdout",
     "output_type": "stream",
     "text": [
      "Mean PSNR for ID data: PSNR            23.571294\n",
      "SSIM             0.750436\n",
      "LPIPS            0.194991\n",
      "BRISQUE         38.785803\n",
      "CLIP-IQA         0.455556\n",
      "NIMA             3.978082\n",
      "NIQE             7.204100\n",
      "MUSIQ           38.266136\n",
      "MUSIQ-AVA        3.616293\n",
      "MANIQA           0.278177\n",
      "MANIQA-KADID     0.423760\n",
      "CNNIQA           0.429511\n",
      "dtype: float64\n",
      "Mean PSNR for OOD data: PSNR            21.117806\n",
      "SSIM             0.658008\n",
      "LPIPS            0.269024\n",
      "BRISQUE         50.741537\n",
      "CLIP-IQA         0.355719\n",
      "NIMA             3.512721\n",
      "NIQE             9.324378\n",
      "MUSIQ           29.704331\n",
      "MUSIQ-AVA        2.971479\n",
      "MANIQA           0.249051\n",
      "MANIQA-KADID     0.285760\n",
      "CNNIQA           0.294335\n",
      "dtype: float64\n"
     ]
    }
   ],
   "source": [
    "# Filter and calculate means\n",
    "mean_columns_label_1 = data[data['label'] == 1].drop(columns=['label', 'detector_pred']).mean()\n",
    "mean_columns_label_0 = data[data['label'] == 0].drop(columns=['label', 'detector_pred']).mean()\n",
    "\n",
    "# Print the results\n",
    "print(f\"Mean PSNR for ID data: {mean_columns_label_1}\")\n",
    "print(f\"Mean PSNR for OOD data: {mean_columns_label_0}\")"
   ]
  },
  {
   "cell_type": "markdown",
   "metadata": {},
   "source": [
    "_______________________________________________________________________________________________________________________________________________________"
   ]
  },
  {
   "cell_type": "markdown",
   "metadata": {},
   "source": [
    "4- mid noise + var = 100 + adaptive mean"
   ]
  },
  {
   "cell_type": "code",
   "execution_count": 6,
   "metadata": {},
   "outputs": [
    {
     "name": "stdout",
     "output_type": "stream",
     "text": [
      "   label  detector_pred       PSNR      SSIM     LPIPS     BRISQUE  CLIP-IQA  \\\n",
      "0      0              0  24.434845  0.742301  0.150422   21.441711  0.506724   \n",
      "1      1              0  15.440994  0.636635  0.157266  145.007507  0.589949   \n",
      "2      1              1  20.942474  0.780265  0.194815   24.505066  0.656874   \n",
      "3      1              1  20.971708  0.744840  0.149111   34.169495  0.332324   \n",
      "4      0              0  21.233795  0.628007  0.192874   38.111755  0.612933   \n",
      "\n",
      "       NIMA       NIQE      MUSIQ  MUSIQ-AVA    MANIQA  MANIQA-KADID    CNNIQA  \n",
      "0  3.534989   4.789467  54.972374   3.572812  0.385853      0.607105  0.632029  \n",
      "1  4.907180  34.358173  57.114258   4.682531  0.509419      0.598923  0.575518  \n",
      "2  3.825278   5.896774  50.482849   3.739629  0.331660      0.312489  0.514098  \n",
      "3  3.596021   4.487004  21.216646   3.050977  0.184480      0.359338  0.377813  \n",
      "4  3.758862   8.556711  49.616375   3.904240  0.360518      0.403513  0.463808  \n"
     ]
    }
   ],
   "source": [
    "data = pd.read_csv('../results/stage2/Task5/exp11/quantative/weighted_results.csv')\n",
    "\n",
    "print(data.head())"
   ]
  },
  {
   "cell_type": "code",
   "execution_count": 7,
   "metadata": {},
   "outputs": [
    {
     "name": "stdout",
     "output_type": "stream",
     "text": [
      "PSNR            22.766381\n",
      "SSIM             0.743226\n",
      "LPIPS            0.176129\n",
      "BRISQUE         29.939961\n",
      "CLIP-IQA         0.461053\n",
      "NIMA             4.037652\n",
      "NIQE             6.687188\n",
      "MUSIQ           49.036601\n",
      "MUSIQ-AVA        3.750933\n",
      "MANIQA           0.345099\n",
      "MANIQA-KADID     0.535650\n",
      "CNNIQA           0.522136\n",
      "dtype: float64\n"
     ]
    }
   ],
   "source": [
    "column_means = data.mean()\n",
    "print(column_means[2:])"
   ]
  },
  {
   "cell_type": "code",
   "execution_count": 8,
   "metadata": {},
   "outputs": [
    {
     "name": "stdout",
     "output_type": "stream",
     "text": [
      "Mean PSNR for ID data: PSNR            23.730412\n",
      "SSIM             0.766865\n",
      "LPIPS            0.167049\n",
      "BRISQUE         29.949723\n",
      "CLIP-IQA         0.471979\n",
      "NIMA             4.171727\n",
      "NIQE             6.315185\n",
      "MUSIQ           46.850212\n",
      "MUSIQ-AVA        3.883737\n",
      "MANIQA           0.323065\n",
      "MANIQA-KADID     0.537868\n",
      "CNNIQA           0.524021\n",
      "dtype: float64\n",
      "Mean PSNR for OOD data: PSNR            21.654037\n",
      "SSIM             0.715951\n",
      "LPIPS            0.186605\n",
      "BRISQUE         29.928697\n",
      "CLIP-IQA         0.448445\n",
      "NIMA             3.882950\n",
      "NIQE             7.116422\n",
      "MUSIQ           51.559359\n",
      "MUSIQ-AVA        3.597698\n",
      "MANIQA           0.370523\n",
      "MANIQA-KADID     0.533090\n",
      "CNNIQA           0.519962\n",
      "dtype: float64\n"
     ]
    }
   ],
   "source": [
    "# Filter and calculate means\n",
    "mean_columns_label_1 = data[data['label'] == 1].drop(columns=['label', 'detector_pred']).mean()\n",
    "mean_columns_label_0 = data[data['label'] == 0].drop(columns=['label', 'detector_pred']).mean()\n",
    "\n",
    "# Print the results\n",
    "print(f\"Mean PSNR for ID data: {mean_columns_label_1}\")\n",
    "print(f\"Mean PSNR for OOD data: {mean_columns_label_0}\")"
   ]
  }
 ],
 "metadata": {
  "kernelspec": {
   "display_name": "base",
   "language": "python",
   "name": "python3"
  },
  "language_info": {
   "codemirror_mode": {
    "name": "ipython",
    "version": 3
   },
   "file_extension": ".py",
   "mimetype": "text/x-python",
   "name": "python",
   "nbconvert_exporter": "python",
   "pygments_lexer": "ipython3",
   "version": "3.11.5"
  }
 },
 "nbformat": 4,
 "nbformat_minor": 2
}
